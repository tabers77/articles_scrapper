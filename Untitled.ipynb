{
 "cells": [
  {
   "cell_type": "code",
   "execution_count": 49,
   "id": "43128f97",
   "metadata": {},
   "outputs": [
    {
     "name": "stdout",
     "output_type": "stream",
     "text": [
      "Current query: lstm\n"
     ]
    }
   ],
   "source": [
    "\"\"\"Scraper for articles \"\"\"\n",
    "\n",
    "# do a search on page\n",
    "# check if there is something from this year\n",
    "#  devide functions\n",
    "# sort by date\n",
    "# deliver by email\n",
    "\n",
    "import requests\n",
    "from bs4 import BeautifulSoup\n",
    "import pandas as pd\n",
    "import time\n",
    "from selenium import webdriver\n",
    "from selenium.webdriver.chrome.service import Service\n",
    "from selenium.webdriver.chrome.options import Options\n",
    "from selenium.webdriver.common.by import By\n",
    "\n",
    "\n",
    "\n",
    "\n",
    "def do_search(url_path: str, queries: list, open_browser=False):\n",
    "\n",
    "    n_pages = 1\n",
    "\n",
    "    # ****** s1 create browser ******\n",
    "    service = Service(\"./chromedriver\")\n",
    "    chr_options = Options()\n",
    "    chr_options.add_experimental_option(\"detach\", True)\n",
    "\n",
    "    if not open_browser:\n",
    "        chr_options.add_argument('--headless') # part of class\n",
    "\n",
    "    chrome_browser = webdriver.Chrome(service=service, options=chr_options)\n",
    "    chrome_browser.maximize_window()\n",
    "    chrome_browser.get(url_path)\n",
    "\n",
    "    # ****** s2 do search ******\n",
    "\n",
    "    df = pd.DataFrame()\n",
    "\n",
    "    for query in queries:\n",
    "\n",
    "        dates = []\n",
    "        links = []\n",
    "\n",
    "        print(f'Current query: {query}')\n",
    "        search_bar = chrome_browser.find_element(By.XPATH, '//*[@id=\"search-4\"]/div/form/input[1]')\n",
    "        search_bar.send_keys(query)\n",
    "        search_bar_btn = chrome_browser.find_element(By.XPATH, '//*[@id=\"search-4\"]/div/form/button')\n",
    "        search_bar_btn.click()\n",
    "        url_base = chrome_browser.current_url\n",
    "\n",
    "        for i in range(0, n_pages):\n",
    "            i = i + 1\n",
    "            page_add = f'&paged={i}'\n",
    "            current_url = url_base + page_add\n",
    "            res = requests.get(current_url)\n",
    "            soup = BeautifulSoup(res.text, 'html.parser')\n",
    "\n",
    "            for article in soup.findAll('article'):\n",
    "                date = pd.to_datetime(article.find('abbr', class_='date time published updated').text)\n",
    "                dates.append(date)\n",
    "                link = article.find('a').get('href')\n",
    "                links.append(link)\n",
    "\n",
    "        df['date'] = dates\n",
    "        df['link'] = links\n",
    "        df['query'] = query\n",
    "        return  dates, links \n",
    "        \n",
    "\n",
    "    #df.sort_values('date', ascending=False, inplace=True)\n",
    "\n",
    "    #return df\n",
    "\n",
    "\n",
    "urls = ['https://machinelearningmastery.com/start-here', ]\n",
    "a, b = do_search(url_path='https://machinelearningmastery.com/start-here', queries=['lstm'], open_browser=False)\n"
   ]
  },
  {
   "cell_type": "code",
   "execution_count": 50,
   "id": "76d59e71",
   "metadata": {},
   "outputs": [],
   "source": [
    "df = pd.DataFrame()\n",
    "df['b'] = b\n",
    "df['a'] = a \n"
   ]
  },
  {
   "cell_type": "code",
   "execution_count": 51,
   "id": "a3cde7ea",
   "metadata": {},
   "outputs": [
    {
     "data": {
      "text/plain": [
       "'https://machinelearningmastery.com/how-to-develop-lstm-models-for-time-series-forecasting/'"
      ]
     },
     "execution_count": 51,
     "metadata": {},
     "output_type": "execute_result"
    }
   ],
   "source": [
    "df['b'][0]"
   ]
  },
  {
   "cell_type": "code",
   "execution_count": 48,
   "id": "d4219d19",
   "metadata": {},
   "outputs": [
    {
     "data": {
      "text/html": [
       "<div>\n",
       "<style scoped>\n",
       "    .dataframe tbody tr th:only-of-type {\n",
       "        vertical-align: middle;\n",
       "    }\n",
       "\n",
       "    .dataframe tbody tr th {\n",
       "        vertical-align: top;\n",
       "    }\n",
       "\n",
       "    .dataframe thead th {\n",
       "        text-align: right;\n",
       "    }\n",
       "</style>\n",
       "<table border=\"1\" class=\"dataframe\">\n",
       "  <thead>\n",
       "    <tr style=\"text-align: right;\">\n",
       "      <th></th>\n",
       "      <th>b</th>\n",
       "      <th>a</th>\n",
       "    </tr>\n",
       "  </thead>\n",
       "  <tbody>\n",
       "    <tr>\n",
       "      <th>0</th>\n",
       "      <td>https://machinelearningmastery.com/how-to-deve...</td>\n",
       "      <td>2018-11-14</td>\n",
       "    </tr>\n",
       "    <tr>\n",
       "      <th>1</th>\n",
       "      <td>https://machinelearningmastery.com/lstm-autoen...</td>\n",
       "      <td>2018-11-05</td>\n",
       "    </tr>\n",
       "    <tr>\n",
       "      <th>2</th>\n",
       "      <td>https://machinelearningmastery.com/lstm-model-...</td>\n",
       "      <td>2018-11-02</td>\n",
       "    </tr>\n",
       "    <tr>\n",
       "      <th>3</th>\n",
       "      <td>https://machinelearningmastery.com/how-to-deve...</td>\n",
       "      <td>2018-10-10</td>\n",
       "    </tr>\n",
       "    <tr>\n",
       "      <th>4</th>\n",
       "      <td>https://machinelearningmastery.com/how-to-deve...</td>\n",
       "      <td>2018-09-24</td>\n",
       "    </tr>\n",
       "    <tr>\n",
       "      <th>5</th>\n",
       "      <td>https://machinelearningmastery.com/return-sequ...</td>\n",
       "      <td>2017-10-24</td>\n",
       "    </tr>\n",
       "    <tr>\n",
       "      <th>6</th>\n",
       "      <td>https://machinelearningmastery.com/diagnose-ov...</td>\n",
       "      <td>2017-09-01</td>\n",
       "    </tr>\n",
       "    <tr>\n",
       "      <th>7</th>\n",
       "      <td>https://machinelearningmastery.com/multivariat...</td>\n",
       "      <td>2017-08-14</td>\n",
       "    </tr>\n",
       "    <tr>\n",
       "      <th>8</th>\n",
       "      <td>https://machinelearningmastery.com/get-the-mos...</td>\n",
       "      <td>2017-08-11</td>\n",
       "    </tr>\n",
       "    <tr>\n",
       "      <th>9</th>\n",
       "      <td>https://machinelearningmastery.com/sequence-pr...</td>\n",
       "      <td>2017-07-19</td>\n",
       "    </tr>\n",
       "  </tbody>\n",
       "</table>\n",
       "</div>"
      ],
      "text/plain": [
       "                                                   b          a\n",
       "0  https://machinelearningmastery.com/how-to-deve... 2018-11-14\n",
       "1  https://machinelearningmastery.com/lstm-autoen... 2018-11-05\n",
       "2  https://machinelearningmastery.com/lstm-model-... 2018-11-02\n",
       "3  https://machinelearningmastery.com/how-to-deve... 2018-10-10\n",
       "4  https://machinelearningmastery.com/how-to-deve... 2018-09-24\n",
       "5  https://machinelearningmastery.com/return-sequ... 2017-10-24\n",
       "6  https://machinelearningmastery.com/diagnose-ov... 2017-09-01\n",
       "7  https://machinelearningmastery.com/multivariat... 2017-08-14\n",
       "8  https://machinelearningmastery.com/get-the-mos... 2017-08-11\n",
       "9  https://machinelearningmastery.com/sequence-pr... 2017-07-19"
      ]
     },
     "execution_count": 48,
     "metadata": {},
     "output_type": "execute_result"
    }
   ],
   "source": [
    "df"
   ]
  },
  {
   "cell_type": "code",
   "execution_count": null,
   "id": "94eaa334",
   "metadata": {},
   "outputs": [],
   "source": []
  }
 ],
 "metadata": {
  "kernelspec": {
   "display_name": "hyperl_env",
   "language": "python",
   "name": "hyperl_env"
  },
  "language_info": {
   "codemirror_mode": {
    "name": "ipython",
    "version": 3
   },
   "file_extension": ".py",
   "mimetype": "text/x-python",
   "name": "python",
   "nbconvert_exporter": "python",
   "pygments_lexer": "ipython3",
   "version": "3.7.9"
  }
 },
 "nbformat": 4,
 "nbformat_minor": 5
}
